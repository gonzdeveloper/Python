{
 "cells": [
  {
   "cell_type": "code",
   "execution_count": 31,
   "metadata": {},
   "outputs": [
    {
     "name": "stderr",
     "output_type": "stream",
     "text": [
      "usage: ipykernel_launcher.py [-h] {eluniversal,elpasi}\n",
      "ipykernel_launcher.py: error: argument news_site: invalid choice: '/Users/gonzaloferrando/Library/Jupyter/runtime/kernel-6ba54523-75a2-46c7-ae61-988941187738.json' (choose from 'eluniversal', 'elpasi')\n",
      "ERROR:root:Internal Python error in the inspect module.\n",
      "Below is the traceback from this internal error.\n",
      "\n",
      "INFO:root:\n",
      "Unfortunately, your original traceback can not be constructed.\n",
      "\n"
     ]
    },
    {
     "name": "stdout",
     "output_type": "stream",
     "text": [
      "Traceback (most recent call last):\n",
      "  File \"/Volumes/Samsung/Anaconda/anaconda3/lib/python3.7/argparse.py\", line 1787, in parse_known_args\n",
      "    namespace, args = self._parse_known_args(args, namespace)\n",
      "  File \"/Volumes/Samsung/Anaconda/anaconda3/lib/python3.7/argparse.py\", line 1996, in _parse_known_args\n",
      "    stop_index = consume_positionals(start_index)\n",
      "  File \"/Volumes/Samsung/Anaconda/anaconda3/lib/python3.7/argparse.py\", line 1952, in consume_positionals\n",
      "    take_action(action, args)\n",
      "  File \"/Volumes/Samsung/Anaconda/anaconda3/lib/python3.7/argparse.py\", line 1845, in take_action\n",
      "    argument_values = self._get_values(action, argument_strings)\n",
      "  File \"/Volumes/Samsung/Anaconda/anaconda3/lib/python3.7/argparse.py\", line 2377, in _get_values\n",
      "    self._check_value(action, value)\n",
      "  File \"/Volumes/Samsung/Anaconda/anaconda3/lib/python3.7/argparse.py\", line 2433, in _check_value\n",
      "    raise ArgumentError(action, msg % args)\n",
      "argparse.ArgumentError: argument news_site: invalid choice: '/Users/gonzaloferrando/Library/Jupyter/runtime/kernel-6ba54523-75a2-46c7-ae61-988941187738.json' (choose from 'eluniversal', 'elpasi')\n",
      "\n",
      "During handling of the above exception, another exception occurred:\n",
      "\n",
      "Traceback (most recent call last):\n",
      "  File \"/Volumes/Samsung/Anaconda/anaconda3/lib/python3.7/site-packages/IPython/core/interactiveshell.py\", line 3331, in run_code\n",
      "    exec(code_obj, self.user_global_ns, self.user_ns)\n",
      "  File \"<ipython-input-31-747c1650a3e6>\", line 34, in <module>\n",
      "    args = parser.parse_args()\n",
      "  File \"/Volumes/Samsung/Anaconda/anaconda3/lib/python3.7/argparse.py\", line 1755, in parse_args\n",
      "    args, argv = self.parse_known_args(args, namespace)\n",
      "  File \"/Volumes/Samsung/Anaconda/anaconda3/lib/python3.7/argparse.py\", line 1794, in parse_known_args\n",
      "    self.error(str(err))\n",
      "  File \"/Volumes/Samsung/Anaconda/anaconda3/lib/python3.7/argparse.py\", line 2508, in error\n",
      "    self.exit(2, _('%(prog)s: error: %(message)s\\n') % args)\n",
      "  File \"/Volumes/Samsung/Anaconda/anaconda3/lib/python3.7/argparse.py\", line 2495, in exit\n",
      "    _sys.exit(status)\n",
      "SystemExit: 2\n",
      "\n",
      "During handling of the above exception, another exception occurred:\n",
      "\n",
      "Traceback (most recent call last):\n",
      "  File \"/Volumes/Samsung/Anaconda/anaconda3/lib/python3.7/site-packages/IPython/core/ultratb.py\", line 1151, in get_records\n",
      "    return _fixed_getinnerframes(etb, number_of_lines_of_context, tb_offset)\n",
      "  File \"/Volumes/Samsung/Anaconda/anaconda3/lib/python3.7/site-packages/IPython/core/ultratb.py\", line 319, in wrapped\n",
      "    return f(*args, **kwargs)\n",
      "  File \"/Volumes/Samsung/Anaconda/anaconda3/lib/python3.7/site-packages/IPython/core/ultratb.py\", line 353, in _fixed_getinnerframes\n",
      "    records = fix_frame_records_filenames(inspect.getinnerframes(etb, context))\n",
      "  File \"/Volumes/Samsung/Anaconda/anaconda3/lib/python3.7/inspect.py\", line 1502, in getinnerframes\n",
      "    frameinfo = (tb.tb_frame,) + getframeinfo(tb, context)\n",
      "AttributeError: 'tuple' object has no attribute 'tb_frame'\n"
     ]
    },
    {
     "ename": "SystemExit",
     "evalue": "2",
     "output_type": "error",
     "traceback": [
      "An exception has occurred, use %tb to see the full traceback.\n",
      "\u001b[0;31m---------------------------------------------------------------------------\u001b[0m",
      "\nDuring handling of the above exception, another exception occurred:\n",
      "\u001b[0;31mSystemExit\u001b[0m\u001b[0;31m:\u001b[0m 2\n"
     ]
    },
    {
     "name": "stderr",
     "output_type": "stream",
     "text": [
      "/Volumes/Samsung/Anaconda/anaconda3/lib/python3.7/site-packages/IPython/core/interactiveshell.py:3339: UserWarning: To exit: use 'exit', 'quit', or Ctrl-D.\n",
      "  warn(\"To exit: use 'exit', 'quit', or Ctrl-D.\", stacklevel=1)\n"
     ]
    }
   ],
   "source": [
    "import yaml\n",
    "import argparse\n",
    "import logging\n",
    "logging.basicConfig(level=logging.INFO)\n",
    "\n",
    "logger = logging.getLogger(__name__)\n",
    "\n",
    "\n",
    "# common.py\n",
    "\n",
    "def config():\n",
    "    with open('config.yaml', mode='r') as f:\n",
    "        __config = yaml.safe_load(f)\n",
    "    \n",
    "    return __config\n",
    "\n",
    "# common.py\n",
    "\n",
    "\n",
    "def _news_scraper(news_site):\n",
    "    host = config()['news_sites'][news_site]['url']\n",
    "\n",
    "    logging.info('Beginning scraper for {}'.format(host))\n",
    "    logging.info('Finding links in homepage...')\n",
    "\n",
    "\n",
    "if __name__ == '__main__':\n",
    "    config()\n",
    "    parser = argparse.ArgumentParser()\n",
    "\n",
    "    news_site_choices = list(config()['news_site'].keys())\n",
    "    parser.add_argument('news_site',\n",
    "                        help='The news site that you want to scrape',\n",
    "                        type=str,\n",
    "                        choices=news_site_choices)\n",
    "\n",
    "    args = parser.parse_args()\n",
    "    _news_scraper(args.news_site)\n"
   ]
  },
  {
   "cell_type": "code",
   "execution_count": null,
   "metadata": {},
   "outputs": [],
   "source": []
  }
 ],
 "metadata": {
  "kernelspec": {
   "display_name": "Python 3",
   "language": "python",
   "name": "python3"
  },
  "language_info": {
   "codemirror_mode": {
    "name": "ipython",
    "version": 3
   },
   "file_extension": ".py",
   "mimetype": "text/x-python",
   "name": "python",
   "nbconvert_exporter": "python",
   "pygments_lexer": "ipython3",
   "version": "3.7.6"
  }
 },
 "nbformat": 4,
 "nbformat_minor": 4
}
